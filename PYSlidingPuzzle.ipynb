{
 "cells": [
  {
   "cell_type": "code",
   "execution_count": 8,
   "id": "327ff0af-6cc6-4ef7-b5d6-3ae63e416d18",
   "metadata": {},
   "outputs": [],
   "source": [
    "def solved(size):\n",
    "    puzzle = []\n",
    "    for r in range(size):\n",
    "        row = []\n",
    "        for c in range(size):\n",
    "            row.append((r*size)+c+1)\n",
    "        puzzle.append(row)\n",
    "    puzzle[size-1][size-1] = 0\n",
    "    return puzzle\n",
    "            "
   ]
  },
  {
   "cell_type": "code",
   "execution_count": 9,
   "id": "91485edb-6578-46e1-9e3a-55e7dfdaafe2",
   "metadata": {},
   "outputs": [
    {
     "name": "stdout",
     "output_type": "stream",
     "text": [
      "[[1, 2, 3], [4, 5, 6], [7, 8, 0]]\n"
     ]
    }
   ],
   "source": [
    "print(solved(3))\n"
   ]
  }
 ],
 "metadata": {
  "kernelspec": {
   "display_name": "Python 3 (ipykernel)",
   "language": "python",
   "name": "python3"
  },
  "language_info": {
   "codemirror_mode": {
    "name": "ipython",
    "version": 3
   },
   "file_extension": ".py",
   "mimetype": "text/x-python",
   "name": "python",
   "nbconvert_exporter": "python",
   "pygments_lexer": "ipython3",
   "version": "3.10.6"
  }
 },
 "nbformat": 4,
 "nbformat_minor": 5
}

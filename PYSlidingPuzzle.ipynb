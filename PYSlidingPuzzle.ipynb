{
 "cells": [
  {
   "cell_type": "code",
   "execution_count": 17,
   "id": "bf86888f-f5ad-4c23-ad2e-08ec4726c309",
   "metadata": {},
   "outputs": [],
   "source": [
    "from queue import PriorityQueue"
   ]
  },
  {
   "cell_type": "code",
   "execution_count": 18,
   "id": "327ff0af-6cc6-4ef7-b5d6-3ae63e416d18",
   "metadata": {},
   "outputs": [],
   "source": [
    "def solved(size):\n",
    "    puzzle = []\n",
    "    for r in range(size):\n",
    "        row = []\n",
    "        for c in range(size):\n",
    "            row.append((r*size)+c+1)\n",
    "        puzzle.append(row)\n",
    "    puzzle[size-1][size-1] = 0\n",
    "    return puzzle"
   ]
  },
  {
   "cell_type": "code",
   "execution_count": 19,
   "id": "91485edb-6578-46e1-9e3a-55e7dfdaafe2",
   "metadata": {},
   "outputs": [],
   "source": [
    "def user(size):\n",
    "    puzzle = []\n",
    "    for r in range(size):\n",
    "        row = []\n",
    "        for c in range(size):\n",
    "            row.append(int(input(f\"Tile at row {r} and column {c}:\")))\n",
    "        puzzle.append(row)\n",
    "    return puzzle"
   ]
  },
  {
   "cell_type": "code",
   "execution_count": 35,
   "id": "c30a4c2f-0699-4041-8b41-c673eff24ac1",
   "metadata": {},
   "outputs": [],
   "source": [
    "def find(puzzle, tile):\n",
    "    for r in range(len(puzzle)):\n",
    "        for c in range(len(puzzle[r])):\n",
    "            t = puzzle[r][c]\n",
    "            if(t == tile):\n",
    "                return (r,c)\n",
    "    return (-1,-1)"
   ]
  },
  {
   "cell_type": "code",
   "execution_count": 33,
   "id": "5ede3100-579a-46e6-adad-1a746e5f88f0",
   "metadata": {},
   "outputs": [],
   "source": [
    "def uniformCostHeuristic(current, goal):\n",
    "    return 0"
   ]
  },
  {
   "cell_type": "code",
   "execution_count": null,
   "id": "a6140fcf-4345-4d34-90c7-dfd1dcc3a78c",
   "metadata": {},
   "outputs": [],
   "source": []
  }
 ],
 "metadata": {
  "kernelspec": {
   "display_name": "Python 3 (ipykernel)",
   "language": "python",
   "name": "python3"
  },
  "language_info": {
   "codemirror_mode": {
    "name": "ipython",
    "version": 3
   },
   "file_extension": ".py",
   "mimetype": "text/x-python",
   "name": "python",
   "nbconvert_exporter": "python",
   "pygments_lexer": "ipython3",
   "version": "3.10.6"
  }
 },
 "nbformat": 4,
 "nbformat_minor": 5
}

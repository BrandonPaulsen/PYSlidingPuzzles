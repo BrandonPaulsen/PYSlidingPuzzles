{
 "cells": [
  {
   "cell_type": "code",
   "execution_count": 8,
   "id": "327ff0af-6cc6-4ef7-b5d6-3ae63e416d18",
   "metadata": {},
   "outputs": [],
   "source": [
    "def solved(size):\n",
    "    puzzle = []\n",
    "    for r in range(size):\n",
    "        row = []\n",
    "        for c in range(size):\n",
    "            row.append((r*size)+c+1)\n",
    "        puzzle.append(row)\n",
    "    puzzle[size-1][size-1] = 0\n",
    "    return puzzle\n",
    "            "
   ]
  },
  {
   "cell_type": "code",
   "execution_count": 14,
   "id": "91485edb-6578-46e1-9e3a-55e7dfdaafe2",
   "metadata": {},
   "outputs": [],
   "source": [
    "def user(size):\n",
    "    puzzle = []\n",
    "    for r in range(size):\n",
    "        row = []\n",
    "        for c in range(size):\n",
    "            row.append(int(input(f\"Tile at row {r} and column {c}:\")))\n",
    "        puzzle.append(row)\n",
    "    return puzzle\n"
   ]
  }
 ],
 "metadata": {
  "kernelspec": {
   "display_name": "Python 3 (ipykernel)",
   "language": "python",
   "name": "python3"
  },
  "language_info": {
   "codemirror_mode": {
    "name": "ipython",
    "version": 3
   },
   "file_extension": ".py",
   "mimetype": "text/x-python",
   "name": "python",
   "nbconvert_exporter": "python",
   "pygments_lexer": "ipython3",
   "version": "3.10.6"
  }
 },
 "nbformat": 4,
 "nbformat_minor": 5
}

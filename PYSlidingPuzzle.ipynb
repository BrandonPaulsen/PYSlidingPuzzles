{
 "cells": [
  {
   "cell_type": "code",
   "execution_count": 17,
   "id": "bf86888f-f5ad-4c23-ad2e-08ec4726c309",
   "metadata": {},
   "outputs": [],
   "source": [
    "from queue import PriorityQueue"
   ]
  },
  {
   "cell_type": "code",
   "execution_count": 61,
   "id": "327ff0af-6cc6-4ef7-b5d6-3ae63e416d18",
   "metadata": {},
   "outputs": [],
   "source": [
    "#Generate solved puzzle of given size\n",
    "def solved(size):\n",
    "    #Make puzzle\n",
    "    puzzle = []\n",
    "    for r in range(size):\n",
    "        #make rowS\n",
    "        row = []\n",
    "        for c in range(size):\n",
    "            #insert tile into row\n",
    "            row.append((r*size)+c+1)\n",
    "        #insert row into puzzle\n",
    "        puzzle.append(row)\n",
    "    #make sure to include empty position\n",
    "    puzzle[size-1][size-1] = 0\n",
    "    return puzzle"
   ]
  },
  {
   "cell_type": "code",
   "execution_count": 64,
   "id": "91485edb-6578-46e1-9e3a-55e7dfdaafe2",
   "metadata": {},
   "outputs": [],
   "source": [
    "#allow user to enter puzzle state of given size\n",
    "def user(size):\n",
    "    #make puzzle\n",
    "    puzzle = []\n",
    "    for r in range(size):\n",
    "        #make row\n",
    "        row = []\n",
    "        for c in range(size):\n",
    "            #get user input and insert tile into row\n",
    "            row.append(int(input(f\"Tile at row {r} and column {c}:\")))\n",
    "        #insert row into puzzle\n",
    "        puzzle.append(row)\n",
    "    return puzzle"
   ]
  },
  {
   "cell_type": "code",
   "execution_count": 67,
   "id": "c9cd0593-c7d4-4fd8-876e-5cb95c19761b",
   "metadata": {},
   "outputs": [],
   "source": [
    "#calculate manhattan distance between two pairs\n",
    "def manhattanDistance(a,b):\n",
    "    return abs(a[0]-b[0]) + abs(a[1]-b[1])"
   ]
  },
  {
   "cell_type": "code",
   "execution_count": 68,
   "id": "c30a4c2f-0699-4041-8b41-c673eff24ac1",
   "metadata": {},
   "outputs": [],
   "source": [
    "#find given tile in puzzle and return pair (r,c)\n",
    "def find(puzzle, tile):\n",
    "    #iterate over rows\n",
    "    for r in range(len(puzzle)):\n",
    "        #iterate over columns\n",
    "        for c in range(len(puzzle[r])):\n",
    "            t = puzzle[r][c]\n",
    "            #check for found tile\n",
    "            if(t == tile):\n",
    "                return (r,c)\n",
    "    return (-1,-1)"
   ]
  },
  {
   "cell_type": "code",
   "execution_count": 69,
   "id": "5ede3100-579a-46e6-adad-1a746e5f88f0",
   "metadata": {},
   "outputs": [],
   "source": [
    "#simply return 0\n",
    "def uniformCostHeuristic(current, goal):\n",
    "    return 0"
   ]
  },
  {
   "cell_type": "code",
   "execution_count": 70,
   "id": "a6140fcf-4345-4d34-90c7-dfd1dcc3a78c",
   "metadata": {},
   "outputs": [],
   "source": [
    "#return the number of misplaced tiles between the two puzzles\n",
    "def misplacedTileHeuristic(current, goal):\n",
    "    #to start, no tiles are misplaced\n",
    "    count = 0\n",
    "    #iterate over all tiles\n",
    "    for t in range(len(current)**2-1):\n",
    "        #find tile in current puzzle\n",
    "        c = find(current, t)\n",
    "        #find tile in goal puzzle\n",
    "        g = find(goal, t)\n",
    "        #use boolean value coercement to 1 to add if mismatched\n",
    "        count += c!=g\n",
    "    return count"
   ]
  },
  {
   "cell_type": "code",
   "execution_count": 71,
   "id": "d7ef5b60-73f7-436f-9051-d4bae82d0501",
   "metadata": {},
   "outputs": [],
   "source": [
    "#return manhattan distance between two puzzles\n",
    "def manhattanDistanceHeuristic(current,goal):\n",
    "    #to start, distance is 0\n",
    "    distance = 0\n",
    "    for t in range(len(current)**2-1):\n",
    "        #find tile in current puzzle\n",
    "        c = find(current, t)\n",
    "        #find tile in goal puzzle\n",
    "        g = find(goal, t)\n",
    "        #accumulate distance\n",
    "        distance += manhattanDistance(c,g)\n",
    "    return distance"
   ]
  },
  {
   "cell_type": "code",
   "execution_count": null,
   "id": "836b588a-3bba-4b8d-94ec-45fcc622f180",
   "metadata": {},
   "outputs": [],
   "source": []
  }
 ],
 "metadata": {
  "kernelspec": {
   "display_name": "Python 3 (ipykernel)",
   "language": "python",
   "name": "python3"
  },
  "language_info": {
   "codemirror_mode": {
    "name": "ipython",
    "version": 3
   },
   "file_extension": ".py",
   "mimetype": "text/x-python",
   "name": "python",
   "nbconvert_exporter": "python",
   "pygments_lexer": "ipython3",
   "version": "3.10.6"
  }
 },
 "nbformat": 4,
 "nbformat_minor": 5
}
